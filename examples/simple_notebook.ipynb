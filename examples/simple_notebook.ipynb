{
 "cells": [
  {
   "cell_type": "code",
   "execution_count": 1,
   "metadata": {},
   "outputs": [
    {
     "name": "stderr",
     "output_type": "stream",
     "text": [
      "/home/lamoureuxm/anaconda3/envs/jang/lib/python3.8/site-packages/tqdm/auto.py:21: TqdmWarning: IProgress not found. Please update jupyter and ipywidgets. See https://ipywidgets.readthedocs.io/en/stable/user_install.html\n",
      "  from .autonotebook import tqdm as notebook_tqdm\n"
     ]
    }
   ],
   "source": [
    "import healpy as hp\n",
    "import matplotlib.pyplot as plt\n",
    "import numpy as np\n",
    "\n",
    "import jang.conversions\n",
    "import jang.gw\n",
    "import jang.limits\n",
    "import jang.neutrinos\n",
    "import jang.parameters\n",
    "import jang.results\n",
    "import jang.significance\n",
    "\n",
    "%matplotlib inline"
   ]
  },
  {
   "cell_type": "markdown",
   "metadata": {},
   "source": [
    "# Starting remarks\n",
    "* For the notebook to run, you need to install `jang` as a package (`pip install -e .` from the root directory).\n",
    "* It is better to keep this code at its current location as there are some relative paths defined here, though you may modify it."
   ]
  },
  {
   "cell_type": "markdown",
   "metadata": {},
   "source": [
    "# Setup"
   ]
  },
  {
   "cell_type": "markdown",
   "metadata": {},
   "source": [
    "## General parameters"
   ]
  },
  {
   "cell_type": "code",
   "execution_count": 2,
   "metadata": {},
   "outputs": [],
   "source": [
    "parameters = jang.parameters.Parameters(\"input_files/config.yaml\")\n",
    "parameters.set_models(\"x**-2\", jang.conversions.JetIsotropic())"
   ]
  },
  {
   "cell_type": "markdown",
   "metadata": {},
   "source": [
    "## GW-side definitions"
   ]
  },
  {
   "cell_type": "code",
   "execution_count": 3,
   "metadata": {},
   "outputs": [
    {
     "name": "stderr",
     "output_type": "stream",
     "text": [
      "[2023-07-13 16:38:27,396:jang:INFO] [GW] Fits is loaded from the file GW190412_PublicationSamples.fits\n",
      "[2023-07-13 16:38:27,396:jang:INFO] [GW] Samples are loaded from the file GW190412_subset.h5\n"
     ]
    }
   ],
   "source": [
    "gw = jang.gw.GW(parameters, \"GW190412\", \n",
    "                \"input_files/gw_catalogs/GW190412/GW190412_PublicationSamples.fits\", \n",
    "                \"input_files/gw_catalogs/GW190412/GW190412_subset.h5\")"
   ]
  },
  {
   "cell_type": "markdown",
   "metadata": {},
   "source": [
    "## Neutrino-side definitions"
   ]
  },
  {
   "cell_type": "markdown",
   "metadata": {},
   "source": [
    "### Detector definitions"
   ]
  },
  {
   "cell_type": "markdown",
   "metadata": {},
   "source": [
    "ANTARES is defined by the YAML config file `detector_antares.yaml`. It specifies there are four different analysis samples with their names. Similarly, Super-Kamiokande is defined with three analysis samples.\n"
   ]
  },
  {
   "cell_type": "code",
   "execution_count": 4,
   "metadata": {},
   "outputs": [
    {
     "name": "stderr",
     "output_type": "stream",
     "text": [
      "[2023-07-13 16:38:27,429:jang:INFO] [Detector] Object is loaded from the file input_files/detector_antares.yaml.\n",
      "[2023-07-13 16:38:27,432:jang:INFO] [Detector] Object is loaded from the file input_files/detector_superk.yaml.\n"
     ]
    }
   ],
   "source": [
    "antares = jang.neutrinos.Detector(\"input_files/detector_antares.yaml\")\n",
    "superkamiokande = jang.neutrinos.Detector(\"input_files/detector_superk.yaml\")"
   ]
  },
  {
   "cell_type": "markdown",
   "metadata": {},
   "source": [
    "One can also define its own detector using a `dict` object."
   ]
  },
  {
   "cell_type": "code",
   "execution_count": 5,
   "metadata": {},
   "outputs": [
    {
     "name": "stderr",
     "output_type": "stream",
     "text": [
      "[2023-07-13 16:38:27,464:jang:INFO] [Detector] Object is loaded from a dictionary object.\n"
     ]
    }
   ],
   "source": [
    "mydetector = jang.neutrinos.Detector({\n",
    "    \"name\": \"MyLittleDetector\",\n",
    "    \"nsamples\": 1,\n",
    "    \"samples\": {\n",
    "        \"names\": [\"MyLittleSample\"],\n",
    "        \"shortnames\": [\"mls\"],\n",
    "        \"energyrange\": [0.1, 1e5],\n",
    "    },\n",
    "})"
   ]
  },
  {
   "cell_type": "markdown",
   "metadata": {},
   "source": [
    "### Effective area / acceptance inputs"
   ]
  },
  {
   "cell_type": "markdown",
   "metadata": {},
   "source": [
    "The detector response should be characterized by the acceptance for a given neutrino spectrum. For instance, assuming a flux $\\frac{dN}{dE} = \\phi (E/{\\rm GeV})^{-\\gamma}$ (with $\\phi$ in ${\\rm GeV}^{-1} {\\rm cm}^{-2}$), the corresponding acceptance for $E^{-\\gamma}$ spectrum is defined as the ratio between the expected number of signal events for such a flux and $\\phi$: \n",
    "\\begin{equation*}\n",
    "\\textrm{Acceptance} = N_{\\rm sig} / \\phi\n",
    "\\end{equation*}\n",
    "It has units of ${\\rm GeV} {\\rm cm}^2$. When the source direction is not known (as it is the case for GW), this acceptance is usually a function of the source direction $\\Omega$:\n",
    "\\begin{equation*}\n",
    "\\textrm{Acceptance}(\\Omega) = N_{\\rm sig}(\\Omega) / \\phi\n",
    "\\end{equation*}"
   ]
  },
  {
   "cell_type": "markdown",
   "metadata": {},
   "source": [
    "Acceptance may be estimated directly from Monte Carlo, but it may also be computed starting from the detector effective area. The effective area is the function that, when convoluted with the neutrino spectrum, gives the expected number of signal events:\n",
    "\\begin{equation*}\n",
    "N_{\\rm sig}(\\Omega) = \\int_{E_{\\min}}^{E_{\\max}} A_{\\rm eff}(E, \\Omega) \\times \\frac{dN}{dE} dE\n",
    "\\end{equation*}\n",
    "where the effective area $A_{\\rm eff}(E, \\Omega)$ is expressed in ${\\rm cm}^2$.\n",
    "So, for an $E^{-\\gamma}$ spectrum:\n",
    "\\begin{equation*}\n",
    "\\textrm{Acceptance}(\\Omega) = \\int_{E_{\\min}}^{E_{\\max}} A_{\\rm eff}(E, \\Omega) \\times (E/GeV)^{-\\gamma} dE\n",
    "\\end{equation*}"
   ]
  },
  {
   "cell_type": "markdown",
   "metadata": {},
   "source": [
    "For JANG, the acceptance are to be provided as HealPix map with a given resolution `nside`. See [tutorial here](https://healpy.readthedocs.io/en/latest/tutorial.html)."
   ]
  },
  {
   "cell_type": "code",
   "execution_count": 6,
   "metadata": {},
   "outputs": [
    {
     "name": "stdout",
     "output_type": "stream",
     "text": [
      "Welcome to JupyROOT 6.28/00\n"
     ]
    }
   ],
   "source": [
    "# defining dummy acceptances for ANTARES (physically wrong)\n",
    "nside = 8\n",
    "acceptance_antares_uptracks = 0.50 * np.ones(hp.nside2npix(nside))\n",
    "acceptance_antares_upshowers = 0.40 * np.ones(hp.nside2npix(nside))\n",
    "acceptance_antares_downtracks = 0.20 * np.ones(hp.nside2npix(nside))\n",
    "acceptance_antares_downshowers = 0.05 * np.ones(hp.nside2npix(nside))\n",
    "\n",
    "# defining acceptances from effective area for Super-Kamiokande (effective area class in \"superkamiokande\" example)\n",
    "# we estimate it for E^-2 spectrum \n",
    "# YOU NEED PYROOT BINDING FOR THIS PART\n",
    "try:\n",
    "    from superkamiokande import EffectiveAreaSK\n",
    "    acceptance_superkamiokande = {}\n",
    "    for sample in superkamiokande.samples:\n",
    "        effectivearea = EffectiveAreaSK(filename=\"input_files/effarea_superk.root\", sample=sample)\n",
    "        acceptance_superkamiokande[sample.shortname] = effectivearea.to_acceptance(superkamiokande, nside, gw.jd, \"x**-2\")\n",
    "except ModuleNotFoundError:\n",
    "    print(\"ROOT not found, just setting some fake values\")   \n",
    "    acceptance_superkamiokande = {}\n",
    "    for sample in superkamiokande.samples:\n",
    "        acceptance_superkamiokande[sample.shortname] = 0.5 * np.ones(hp.nside2npix(nside))\n",
    "\n",
    "# defining uniform acceptance for MyDetector\n",
    "acceptance_mydet = np.ones(hp.nside2npix(nside))\n",
    "    \n",
    "# filling acceptances to the Detector objects\n",
    "antares.set_acceptances([acceptance_antares_uptracks, \n",
    "                         acceptance_antares_upshowers, \n",
    "                         acceptance_antares_downtracks, \n",
    "                         acceptance_antares_downshowers],\n",
    "                        \"x**-2\", nside=nside)\n",
    "superkamiokande.set_acceptances([acceptance_superkamiokande[s] for s in [\"FC\", \"PC\", \"UPMU\"]],\n",
    "                                \"x**-2\", nside=nside)\n",
    "mydetector.set_acceptances([acceptance_mydet], \"x**-2\", nside=nside)"
   ]
  },
  {
   "cell_type": "markdown",
   "metadata": {},
   "source": [
    "### Observation inputs"
   ]
  },
  {
   "cell_type": "markdown",
   "metadata": {},
   "source": [
    "The other main ingredients on the neutrino side are the observed and expected number of events in the different samples. The observed number of events is just an integer. The expected one may be provided in different formats that are presented below."
   ]
  },
  {
   "cell_type": "code",
   "execution_count": 7,
   "metadata": {},
   "outputs": [],
   "source": [
    "# ANTARES background taken as a Gaussian prior with different mean for each sample and 20% error\n",
    "bkg_antares = [jang.neutrinos.BackgroundGaussian(b, 0.20 * b) for b in [0.5, 0.2, 1.0, 0.4]]\n",
    "# ANTARES observed number of events\n",
    "nobs_antares = [1, 0, 2, 0]\n",
    "\n",
    "# Super-Kamiokande background taken as a fixed value with no uncertainties\n",
    "bkg_superkamiokande = [jang.neutrinos.BackgroundFixed(b) for b in [0.15, 0.05, 0.03]]\n",
    "# Super-Kamiokande observed number of events\n",
    "nobs_superkamiokande = [0, 0, 0]\n",
    "\n",
    "# Background from an OFF measurement where alpha_offon is the ratio between the size (time/angular) of OFF and ON regions\n",
    "bkg_mydet = [jang.neutrinos.BackgroundPoisson(20, alpha_offon=50)]\n",
    "# Observed number of events\n",
    "nobs_mydet = [0]\n",
    "\n",
    "# Filling values to the detector objects\n",
    "antares.set_observations(nobs_antares, bkg_antares)\n",
    "superkamiokande.set_observations(nobs_superkamiokande, bkg_superkamiokande)\n",
    "mydetector.set_observations(nobs_mydet, bkg_mydet)"
   ]
  },
  {
   "cell_type": "markdown",
   "metadata": {},
   "source": [
    "# Computing the limits per detector"
   ]
  },
  {
   "cell_type": "markdown",
   "metadata": {},
   "source": [
    "### Compute limits on the flux\n",
    "As all acceptances were provided for $E^{-2}$, this will be the limit on $\\phi$ for $dN/dE = \\phi \\times (E/GeV)^{-2}$."
   ]
  },
  {
   "cell_type": "code",
   "execution_count": 8,
   "metadata": {},
   "outputs": [
    {
     "name": "stderr",
     "output_type": "stream",
     "text": [
      "[2023-07-13 16:44:38,953:jang:INFO] [Limits] GW190412, ANTARES, x**-2, limit(Flux) = 2.187e+01\n",
      "[2023-07-13 16:44:42,053:jang:INFO] [Limits] GW190412, Super-Kamiokande, x**-2, limit(Flux) = 1.090e+02\n",
      "[2023-07-13 16:44:44,870:jang:INFO] [Limits] GW190412, MyLittleDetector, x**-2, limit(Flux) = 1.366e+01\n"
     ]
    }
   ],
   "source": [
    "limit_flux_antares = jang.limits.get_limit_flux(antares, gw, parameters)\n",
    "limit_flux_superkamiokande = jang.limits.get_limit_flux(superkamiokande, gw, parameters)\n",
    "limit_flux_mydet = jang.limits.get_limit_flux(mydetector, gw, parameters)"
   ]
  },
  {
   "cell_type": "markdown",
   "metadata": {},
   "source": [
    "We can also skymaps where there is no marginalisation over source direction anymore"
   ]
  },
  {
   "cell_type": "code",
   "execution_count": 9,
   "metadata": {},
   "outputs": [],
   "source": [
    "limitmap_flux_antares = jang.limits.get_limitmap_flux(antares, gw, parameters)\n",
    "limitmap_flux_superkamiokande = jang.limits.get_limitmap_flux(superkamiokande, gw, parameters)\n",
    "limitmap_flux_mydet = jang.limits.get_limitmap_flux(mydetector, gw, parameters)"
   ]
  },
  {
   "cell_type": "code",
   "execution_count": 10,
   "metadata": {},
   "outputs": [
    {
     "data": {
      "image/png": "[encoded data removed]",
      "text/plain": [
       "<Figure size 850x540 with 2 Axes>"
      ]
     },
     "metadata": {},
     "output_type": "display_data"
    }
   ],
   "source": [
    "hp.mollview(limitmap_flux_antares, rot=180, cmap=\"Blues\", fig=1, title=\"ANTARES\", min=0)"
   ]
  },
  {
   "cell_type": "markdown",
   "metadata": {},
   "source": [
    "### Compute limits on the total energy emitted in neutrinos\n",
    "\n",
    "This takes benefit from the source distance provided in the GW h5 file. The default option is to ask for the isotropic energy: $E_{\\rm iso} = 4\\pi d^2 \\int E \\times \\frac{dn}{dE} dE$. But, changing the parameter object, it is also possible to consider some jetted emission."
   ]
  },
  {
   "cell_type": "code",
   "execution_count": 11,
   "metadata": {},
   "outputs": [
    {
     "name": "stderr",
     "output_type": "stream",
     "text": [
      "[2023-07-13 16:45:09,856:jang:INFO] [Limits] GW190412, ANTARES, Isotropic, x**-2, limit(Etot) = 4.271e+55 erg\n",
      "[2023-07-13 16:45:13,712:jang:INFO] [Limits] GW190412, Super-Kamiokande, Isotropic, x**-2, limit(Etot) = 2.107e+56 erg\n",
      "[2023-07-13 16:45:17,193:jang:INFO] [Limits] GW190412, MyLittleDetector, Isotropic, x**-2, limit(Etot) = 2.642e+55 erg\n"
     ]
    }
   ],
   "source": [
    "# isotropic\n",
    "limit_eiso_antares = jang.limits.get_limit_etot(antares, gw, parameters)\n",
    "limit_eiso_superkamiokande = jang.limits.get_limit_etot(superkamiokande, gw, parameters)\n",
    "limit_eiso_mydet = jang.limits.get_limit_etot(mydetector, gw, parameters)"
   ]
  },
  {
   "cell_type": "code",
   "execution_count": 12,
   "metadata": {},
   "outputs": [
    {
     "name": "stderr",
     "output_type": "stream",
     "text": [
      "[2023-07-13 16:45:21,421:jang:INFO] [Limits] GW190412, ANTARES, VonMises,50.0 deg, x**-2, limit(Etot) = 2.210e+55 erg\n",
      "[2023-07-13 16:45:25,121:jang:INFO] [Limits] GW190412, Super-Kamiokande, VonMises,50.0 deg, x**-2, limit(Etot) = 1.105e+56 erg\n",
      "[2023-07-13 16:45:28,741:jang:INFO] [Limits] GW190412, MyLittleDetector, VonMises,50.0 deg, x**-2, limit(Etot) = 1.387e+55 erg\n"
     ]
    }
   ],
   "source": [
    "# jetted emission with Von Mises model and jet opening = 50 deg (unreasonably large just for the example)\n",
    "parameters_jetted = jang.parameters.Parameters(\"input_files/config.yaml\")\n",
    "parameters_jetted.set_models(\"x**-2\", jang.conversions.JetVonMises(np.deg2rad(50)))\n",
    "limit_etotVM_antares = jang.limits.get_limit_etot(antares, gw, parameters_jetted)\n",
    "limit_etotVM_superkamiokande = jang.limits.get_limit_etot(superkamiokande, gw, parameters_jetted)\n",
    "limit_etotVM_mydet = jang.limits.get_limit_etot(mydetector, gw, parameters_jetted)"
   ]
  },
  {
   "cell_type": "markdown",
   "metadata": {},
   "source": [
    "### Compute limits on the ratio between neutrino and GW energies\n",
    "\n",
    "This takes benefit from the source distance **and the radiated energy** provided in the GW h5 file. The default option is still with isotropic energy: $f_{\\nu} = E_{\\rm iso} / E_{\\rm GW}$, but other options can be investigated as above."
   ]
  },
  {
   "cell_type": "code",
   "execution_count": 13,
   "metadata": {},
   "outputs": [
    {
     "name": "stderr",
     "output_type": "stream",
     "text": [
      "[2023-07-13 16:45:33,091:jang:INFO] [Limits] GW190412, ANTARES, Isotropic, x**-2, limit(fnu) = 2.141e+01\n",
      "[2023-07-13 16:45:37,141:jang:INFO] [Limits] GW190412, Super-Kamiokande, Isotropic, x**-2, limit(fnu) = 1.054e+02\n",
      "[2023-07-13 16:45:40,667:jang:INFO] [Limits] GW190412, MyLittleDetector, Isotropic, x**-2, limit(fnu) = 1.322e+01\n"
     ]
    }
   ],
   "source": [
    "# isotropic\n",
    "limit_fnuiso_antares = jang.limits.get_limit_fnu(antares, gw, parameters)\n",
    "limit_fnuiso_superkamiokande = jang.limits.get_limit_fnu(superkamiokande, gw, parameters)\n",
    "limit_fnuiso_mydet = jang.limits.get_limit_fnu(mydetector, gw, parameters)"
   ]
  },
  {
   "cell_type": "markdown",
   "metadata": {},
   "source": [
    "# Computing the limits combining detectors"
   ]
  },
  {
   "cell_type": "code",
   "execution_count": 14,
   "metadata": {},
   "outputs": [
    {
     "name": "stderr",
     "output_type": "stream",
     "text": [
      "[2023-07-13 16:45:40,811:jang:INFO] [SuperDetector] Detector ANTARES is added to the SuperDetector.\n",
      "[2023-07-13 16:45:40,812:jang:INFO] [SuperDetector] Detector Super-Kamiokande is added to the SuperDetector.\n",
      "[2023-07-13 16:45:44,285:jang:INFO] [Limits] GW190412, ANTARES + Super-Kamiokande, x**-2, limit(Flux) = 1.914e+01\n"
     ]
    }
   ],
   "source": [
    "# define combined detector\n",
    "combined_det = jang.neutrinos.SuperDetector(\"ANTARES + Super-Kamiokande\")\n",
    "combined_det.add_detector(antares)\n",
    "combined_det.add_detector(superkamiokande)\n",
    "\n",
    "# get upper limit on flux\n",
    "limit_flux_combined = jang.limits.get_limit_flux(combined_det, gw, parameters)"
   ]
  },
  {
   "cell_type": "code",
   "execution_count": 15,
   "metadata": {},
   "outputs": [
    {
     "name": "stdout",
     "output_type": "stream",
     "text": [
      "Limit with ANTARES -> 2.19e+01 GeV^-1 cm^-2\n",
      "Limit with Super-Kamiokande -> 1.09e+02 GeV^-1 cm^-2\n",
      "Best of the two -> 2.19e+01 GeV^-1 cm^-2\n",
      "Limit with ANTARES+Super-Kamiokande -> 1.91e+01 GeV^-1 cm^-2\n",
      "Relative improvement -> 14.25%\n"
     ]
    }
   ],
   "source": [
    "# compare with per-detector limits\n",
    "print(f\"Limit with ANTARES -> {limit_flux_antares:.2e} GeV^-1 cm^-2\")\n",
    "print(f\"Limit with Super-Kamiokande -> {limit_flux_superkamiokande:.2e} GeV^-1 cm^-2\")\n",
    "print(f\"Best of the two -> {min(limit_flux_antares, limit_flux_superkamiokande):.2e} GeV^-1 cm^-2\")\n",
    "#\n",
    "print(f\"Limit with ANTARES+Super-Kamiokande -> {limit_flux_combined:.2e} GeV^-1 cm^-2\")\n",
    "print(f\"Relative improvement -> {100*min(limit_flux_antares, limit_flux_superkamiokande)/limit_flux_combined -100:.2f}%\")"
   ]
  },
  {
   "cell_type": "markdown",
   "metadata": {},
   "source": [
    "### Redoing the same for E^-3 spectrum"
   ]
  },
  {
   "cell_type": "code",
   "execution_count": 16,
   "metadata": {},
   "outputs": [],
   "source": [
    "# still dummy acceptances\n",
    "antares.set_acceptances([0.0010 * np.ones(hp.nside2npix(8)), \n",
    "                         0.0005 * np.ones(hp.nside2npix(8)), \n",
    "                         0.0003 * np.ones(hp.nside2npix(8)), \n",
    "                         0.0002 * np.ones(hp.nside2npix(8))],\n",
    "                        \"x**-3\", nside=8)\n",
    "\n",
    "try:\n",
    "    from superkamiokande import EffectiveAreaSK\n",
    "    acceptance_superkamiokande = {}\n",
    "    for sample in superkamiokande.samples:\n",
    "        effectivearea = EffectiveAreaSK(filename=\"input_files/effarea_superk.root\", sample=sample)\n",
    "        acceptance_superkamiokande[sample.shortname] = effectivearea.to_acceptance(superkamiokande, 8, gw.jd, \"x**-3\")\n",
    "except ModuleNotFoundError:\n",
    "    print(\"ROOT not found, just setting some fake values\")   \n",
    "    acceptance_superkamiokande = {}\n",
    "    for sample in superkamiokande.samples:\n",
    "        acceptance_superkamiokande[sample.shortname] = 0.5 * np.ones(hp.nside2npix(8))\n",
    "\n",
    "superkamiokande.set_acceptances([acceptance_superkamiokande[s] for s in [\"FC\", \"PC\", \"UPMU\"]],\n",
    "                                \"x**-3\", nside=8)"
   ]
  },
  {
   "cell_type": "code",
   "execution_count": 17,
   "metadata": {},
   "outputs": [
    {
     "name": "stderr",
     "output_type": "stream",
     "text": [
      "[2023-07-13 16:48:56,741:jang:INFO] [Limits] GW190412, ANTARES, x**-3, limit(Flux) = 1.242e+04\n",
      "[2023-07-13 16:48:59,164:jang:INFO] [Limits] GW190412, Super-Kamiokande, x**-3, limit(Flux) = 6.959e+03\n",
      "[2023-07-13 16:49:02,320:jang:INFO] [Limits] GW190412, ANTARES + Super-Kamiokande, x**-3, limit(Flux) = 5.212e+03\n"
     ]
    }
   ],
   "source": [
    "parameters_3 = jang.parameters.Parameters(\"input_files/config.yaml\")\n",
    "parameters_3.set_models(\"x**-3\", jang.conversions.JetIsotropic())\n",
    "\n",
    "limit_flux_antares_3 = jang.limits.get_limit_flux(antares, gw, parameters_3)\n",
    "limit_flux_superkamiokande_3 = jang.limits.get_limit_flux(superkamiokande, gw, parameters_3)\n",
    "limit_flux_combined_3 = jang.limits.get_limit_flux(combined_det, gw, parameters_3)"
   ]
  },
  {
   "cell_type": "code",
   "execution_count": 18,
   "metadata": {},
   "outputs": [
    {
     "name": "stdout",
     "output_type": "stream",
     "text": [
      "Limit with ANTARES -> 1.24e+04 GeV^-1 cm^-2\n",
      "Limit with Super-Kamiokande -> 6.96e+03 GeV^-1 cm^-2\n",
      "Best of the two -> 6.96e+03 GeV^-1 cm^-2\n",
      "Limit with ANTARES+Super-Kamiokande -> 5.21e+03 GeV^-1 cm^-2\n",
      "Relative improvement -> 33.51%\n"
     ]
    }
   ],
   "source": [
    "# compare with per-detector limits\n",
    "print(f\"Limit with ANTARES -> {limit_flux_antares_3:.2e} GeV^-1 cm^-2\")\n",
    "print(f\"Limit with Super-Kamiokande -> {limit_flux_superkamiokande_3:.2e} GeV^-1 cm^-2\")\n",
    "print(f\"Best of the two -> {min(limit_flux_antares_3, limit_flux_superkamiokande_3):.2e} GeV^-1 cm^-2\")\n",
    "#\n",
    "print(f\"Limit with ANTARES+Super-Kamiokande -> {limit_flux_combined_3:.2e} GeV^-1 cm^-2\")\n",
    "print(f\"Relative improvement -> {100*min(limit_flux_antares_3, limit_flux_superkamiokande_3)/limit_flux_combined_3 -100:.2f}%\")"
   ]
  },
  {
   "cell_type": "markdown",
   "metadata": {},
   "source": [
    "### Making some final plot"
   ]
  },
  {
   "cell_type": "code",
   "execution_count": 19,
   "metadata": {},
   "outputs": [
    {
     "data": {
      "image/png": "[encoded data removed]",
      "text/plain": [
       "<Figure size 640x480 with 1 Axes>"
      ]
     },
     "metadata": {},
     "output_type": "display_data"
    }
   ],
   "source": [
    "plt.plot([2,3], [limit_flux_antares, limit_flux_antares_3], color=\"blue\", label=\"ANTARES\", marker=\"x\", markersize=12)\n",
    "plt.plot([2,3], [limit_flux_superkamiokande, limit_flux_superkamiokande_3], color=\"orange\", label=\"Super-Kamiokande\", marker=\"+\", markersize=12)\n",
    "plt.plot([2,3], [limit_flux_combined, limit_flux_combined_3], color=\"black\", label=\"Combined\", marker=\"*\", markersize=12)\n",
    "plt.xlabel(\"Spectral index\")\n",
    "plt.ylabel(r\"Limit on flux [/GeV/cm$^{2}$]\")\n",
    "plt.yscale(\"log\")"
   ]
  }
 ],
 "metadata": {
  "kernelspec": {
   "display_name": "Python 3.8.17 ('jang')",
   "language": "python",
   "name": "python3"
  },
  "language_info": {
   "codemirror_mode": {
    "name": "ipython",
    "version": 3
   },
   "file_extension": ".py",
   "mimetype": "text/x-python",
   "name": "python",
   "nbconvert_exporter": "python",
   "pygments_lexer": "ipython3",
   "version": "3.8.17"
  },
  "orig_nbformat": 4,
  "vscode": {
   "interpreter": {
    "hash": "058f2841e0826184927b9ee4568f65aab52e57e03d2e2882f809c949384612b7"
   }
  }
 },
 "nbformat": 4,
 "nbformat_minor": 2
}
